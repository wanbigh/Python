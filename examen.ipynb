{
 "cells": [
  {
   "cell_type": "markdown",
   "metadata": {},
   "source": [
    "# Tarea de Python"
   ]
  },
  {
   "cell_type": "markdown",
   "metadata": {},
   "source": [
    "### Nivel 1"
   ]
  },
  {
   "cell_type": "markdown",
   "metadata": {},
   "source": [
    "#### 1: Declaración de variable e impresión."
   ]
  },
  {
   "cell_type": "markdown",
   "metadata": {},
   "source": [
    "Crear una variable que contenga un número entero y luego imprimir por pantalla."
   ]
  },
  {
   "cell_type": "code",
   "execution_count": 6,
   "metadata": {},
   "outputs": [
    {
     "name": "stdout",
     "output_type": "stream",
     "text": [
      "2\n"
     ]
    }
   ],
   "source": [
    "# Escribe tú codigo aquí\n",
    "numero=2\n",
    "print(numero)"
   ]
  },
  {
   "cell_type": "markdown",
   "metadata": {},
   "source": [
    "#### 2: Descubriendo tipo de variable."
   ]
  },
  {
   "cell_type": "markdown",
   "metadata": {},
   "source": [
    "Imprimir el tipo de dato de la variable creada en el punto 1"
   ]
  },
  {
   "cell_type": "code",
   "execution_count": 7,
   "metadata": {},
   "outputs": [
    {
     "data": {
      "text/plain": [
       "int"
      ]
     },
     "execution_count": 7,
     "metadata": {},
     "output_type": "execute_result"
    }
   ],
   "source": [
    "# Escribe tú codigo aquí\n",
    "type(numero)"
   ]
  },
  {
   "cell_type": "markdown",
   "metadata": {},
   "source": [
    "#### 3: Mostrando la Diferencia entre '2' y 2"
   ]
  },
  {
   "cell_type": "markdown",
   "metadata": {},
   "source": [
    "Evaluar si \"2\" es igual a 2 ¿Si no lo es por qué ocurre esto?"
   ]
  },
  {
   "cell_type": "code",
   "execution_count": 11,
   "metadata": {},
   "outputs": [
    {
     "name": "stdout",
     "output_type": "stream",
     "text": [
      "son distintos\n"
     ]
    }
   ],
   "source": [
    "# Escribe tú codigo aquí\n",
    "if \"2\" == 2:\n",
    "    print(\"son iguales\")\n",
    "else:\n",
    "    print(\"son distintos\")"
   ]
  },
  {
   "cell_type": "markdown",
   "metadata": {},
   "source": [
    "#### 4: Tú Nombre"
   ]
  },
  {
   "cell_type": "markdown",
   "metadata": {},
   "source": [
    "Haz una varible con tu nombre y muestralo en pantalla"
   ]
  },
  {
   "cell_type": "code",
   "execution_count": 15,
   "metadata": {},
   "outputs": [
    {
     "name": "stdout",
     "output_type": "stream",
     "text": [
      "wanda\n"
     ]
    }
   ],
   "source": [
    "# Escribe tú codigo aquí\n",
    "nombre=\"wanda\"\n",
    "print(nombre)"
   ]
  },
  {
   "cell_type": "markdown",
   "metadata": {},
   "source": [
    "#### 5: Suma entre strings"
   ]
  },
  {
   "cell_type": "markdown",
   "metadata": {},
   "source": [
    "Utilizar el operador \"+\" en una operación donde intervengan solo variables tipo string"
   ]
  },
  {
   "cell_type": "code",
   "execution_count": 29,
   "metadata": {},
   "outputs": [
    {
     "name": "stdout",
     "output_type": "stream",
     "text": [
      "perro azul \n"
     ]
    }
   ],
   "source": [
    "# Escribe tú codigo aquí\n",
    "color=\" azul \" \n",
    "animal=\"perro\"\n",
    "print(animal + color)"
   ]
  },
  {
   "cell_type": "markdown",
   "metadata": {},
   "source": [
    "### Nivel 2"
   ]
  },
  {
   "cell_type": "markdown",
   "metadata": {},
   "source": [
    "### Funcion Ejemplo"
   ]
  },
  {
   "cell_type": "markdown",
   "metadata": {},
   "source": [
    "Esta funcion es de ejemplo"
   ]
  },
  {
   "cell_type": "code",
   "execution_count": 52,
   "metadata": {},
   "outputs": [],
   "source": [
    "# Escribe tú codigo aquí\n",
    "def funcion_ejemplo(saludo,nombre,lugar):\n",
    "    # Completa la función\n",
    "    print (saludo + nombre + lugar)"
   ]
  },
  {
   "cell_type": "code",
   "execution_count": 54,
   "metadata": {},
   "outputs": [
    {
     "name": "stdout",
     "output_type": "stream",
     "text": [
      "chau wanda Buenos Aires\n",
      "chau frank Buenos Aires\n",
      "chau anggy Buenos Aires\n"
     ]
    }
   ],
   "source": [
    "# Ejemplos de uso\n",
    "funcion_ejemplo('chau', ' wanda', ' Buenos Aires')\n",
    "funcion_ejemplo('chau', ' frank', ' Buenos Aires')\n",
    "funcion_ejemplo('chau', ' anggy', ' Buenos Aires')"
   ]
  },
  {
   "cell_type": "markdown",
   "metadata": {},
   "source": [
    "#### Función 1: Suma de Números\n"
   ]
  },
  {
   "cell_type": "markdown",
   "metadata": {},
   "source": [
    "Crea un programa que pida al usuario dos números. Luego, utiliza una función para calcular la suma de esos dos números e imprime el resultado."
   ]
  },
  {
   "cell_type": "code",
   "execution_count": 55,
   "metadata": {},
   "outputs": [],
   "source": [
    "# Escribe tú codigo aquí\n",
    "def funcion_01(number1, number2):\n",
    "    # Completa la función\n",
    "    \n",
    "    return number1 + number2 "
   ]
  },
  {
   "cell_type": "code",
   "execution_count": 59,
   "metadata": {},
   "outputs": [
    {
     "data": {
      "text/plain": [
       "12"
      ]
     },
     "execution_count": 59,
     "metadata": {},
     "output_type": "execute_result"
    }
   ],
   "source": [
    "# Ejemplos de uso\n",
    "#funcion_01(7,2-3)\n",
    "num1 = int(input(\"Ingrese el primer número: \"))\n",
    "num2 = int(input(\"Ingrese un segundo número: \"))\n",
    "funcion_01(num1,num2)"
   ]
  },
  {
   "cell_type": "markdown",
   "metadata": {},
   "source": [
    "### Función 2: Contar hasta N"
   ]
  },
  {
   "cell_type": "markdown",
   "metadata": {},
   "source": [
    "Escribe una función que solicite al usuario ingresar un número. Luego, utiliza un bucle for para imprimir todos los números desde 0 hasta ese número."
   ]
  },
  {
   "cell_type": "code",
   "execution_count": 60,
   "metadata": {},
   "outputs": [],
   "source": [
    "# Escribe tú codigo aquí\n",
    "def funcion_02():\n",
    "    num = int(input(\"Ingrese un número: \"))\n",
    "    for num in range(num + 1):   #aca falta algo\n",
    "        print(num) #que tiene que imprimir aca?"
   ]
  },
  {
   "cell_type": "code",
   "execution_count": 61,
   "metadata": {},
   "outputs": [
    {
     "name": "stdout",
     "output_type": "stream",
     "text": [
      "0\n",
      "1\n",
      "2\n",
      "3\n",
      "4\n",
      "5\n",
      "6\n",
      "7\n"
     ]
    }
   ],
   "source": [
    "# Ejemplos de uso\n",
    "funcion_02()"
   ]
  },
  {
   "cell_type": "markdown",
   "metadata": {},
   "source": [
    "### Función 3: Verificación de Par o Impar"
   ]
  },
  {
   "cell_type": "markdown",
   "metadata": {},
   "source": [
    "Escribe un programa que solicite al usuario ingresar un número. Utiliza un condicional para determinar si el número es par o impar. Imprime un mensaje indicando el resultado."
   ]
  },
  {
   "cell_type": "code",
   "execution_count": 62,
   "metadata": {},
   "outputs": [],
   "source": [
    "# Escribe tú codigo aquí\n",
    "def funcion_03():\n",
    "    num = int(input(\"Ingrese un número: \"))\n",
    "    if num % 2 == 0:\n",
    "        print(\"El número\", num, \"es par.\") #aca que falta\n",
    "    else:\n",
    "        print(\"El número\", num, \"es impar.\")"
   ]
  },
  {
   "cell_type": "code",
   "execution_count": 63,
   "metadata": {},
   "outputs": [
    {
     "name": "stdout",
     "output_type": "stream",
     "text": [
      "El número 6 es par.\n"
     ]
    }
   ],
   "source": [
    "# Ejemplo de uso\n",
    "funcion_03()"
   ]
  },
  {
   "cell_type": "markdown",
   "metadata": {},
   "source": [
    "### Problema 4: Saludo Personalizado"
   ]
  },
  {
   "cell_type": "markdown",
   "metadata": {},
   "source": [
    "\n",
    "Crea una función llamada saludar que tome el nombre del usuario como argumento. La función debe imprimir un saludo personalizado usando ese nombre."
   ]
  },
  {
   "cell_type": "code",
   "execution_count": 65,
   "metadata": {},
   "outputs": [],
   "source": [
    "def funcion_04(nombre):\n",
    "    print(f\"¡Hola, {nombre}!\") #aqui falta algo para que se active la funcion\n",
    "\n",
    "nombre_usuario = input(\"Por favor, ingresa tu nombre: \")"
   ]
  },
  {
   "cell_type": "code",
   "execution_count": 66,
   "metadata": {},
   "outputs": [
    {
     "name": "stdout",
     "output_type": "stream",
     "text": [
      "¡Hola, wanda!\n"
     ]
    }
   ],
   "source": [
    "# Ejemplo de uso\n",
    "\n",
    "funcion_04(nombre_usuario) #falta llamar algo que sera?"
   ]
  },
  {
   "cell_type": "markdown",
   "metadata": {},
   "source": [
    "### Problema 5: Tabla de Multiplicar Simple"
   ]
  },
  {
   "cell_type": "markdown",
   "metadata": {},
   "source": [
    "\n",
    "Escribe un programa que solicite al usuario ingresar un número. Luego, utiliza un bucle for para imprimir la tabla de multiplicar del 1 al 5 para ese número."
   ]
  },
  {
   "cell_type": "markdown",
   "metadata": {},
   "source": []
  },
  {
   "cell_type": "code",
   "execution_count": 67,
   "metadata": {},
   "outputs": [
    {
     "name": "stdout",
     "output_type": "stream",
     "text": [
      "Tabla de multiplicar del 3:\n",
      "3 x 1 = 3\n",
      "3 x 2 = 6\n"
     ]
    }
   ],
   "source": [
    "# Escribe tú codigo aquí\n",
    "def funcion_05():\n",
    "    num = int(input(\"Ingrese un número: \"))\n",
    "    print(f\"Tabla de multiplicar del {num}:\")\n",
    "\n",
    "    for i in range(1, num):  #aca falta un numero\n",
    "        resultado = num * i\n",
    "        print(f\"{num} x {i} = {resultado}\") #igual a?\n",
    "\n",
    "# Ejemplo de uso\n",
    "funcion_05()"
   ]
  },
  {
   "cell_type": "markdown",
   "metadata": {},
   "source": [
    "### Problema 6: Clasificar Edades\n"
   ]
  },
  {
   "cell_type": "markdown",
   "metadata": {},
   "source": [
    "Escribe una función llamada clasificar_edades que tome una edad como parámetro e imprima un mensaje indicando en qué categoría de edad se encuentra. Utiliza condicionales (if, elif, else).\n",
    "\n",
    "Si la edad es menor de 5, imprime \"Eres un bebé\".\n",
    "\n",
    "Si la edad está entre 5 y 12 (inclusive), imprime \"Eres un niño\".\n",
    "\n",
    "Si la edad está entre 13 y 19 (inclusive), imprime \"Eres un adolescente\".\n",
    "\n",
    "Si la edad es 20 o más, imprime \"Eres un adulto\"."
   ]
  },
  {
   "cell_type": "code",
   "execution_count": 68,
   "metadata": {},
   "outputs": [],
   "source": [
    "# Escribe tú codigo aquí\n",
    "def clasificar_edades(edad):\n",
    "    if edad < 5:  #aca falta un numero cual será?\n",
    "        print(\"Eres un bebé\")\n",
    "    elif 5 < edad <= 12:  #aca hay un error, presta atencion la respuesta esta cerca\n",
    "        print(\"Eres un niño\")\n",
    "    elif 13 <= edad <= 19:\n",
    "        print(\"Eres un adolescente\")\n",
    "    else:\n",
    "        print(\"Eres un adulto\")"
   ]
  },
  {
   "cell_type": "code",
   "execution_count": 69,
   "metadata": {},
   "outputs": [
    {
     "name": "stdout",
     "output_type": "stream",
     "text": [
      "Eres un bebé\n",
      "Eres un niño\n",
      "Eres un adolescente\n",
      "Eres un adulto\n"
     ]
    }
   ],
   "source": [
    "# Ejemplo de uso\n",
    "clasificar_edades(3)  # Salida esperada: Eres un bebé\n",
    "clasificar_edades(10)  # Salida esperada: Eres un niño\n",
    "clasificar_edades(16)  # Salida esperada: Eres un adolescente\n",
    "clasificar_edades(25)  # Salida esperada: Eres un adulto"
   ]
  }
 ],
 "metadata": {
  "kernelspec": {
   "display_name": "Python 3",
   "language": "python",
   "name": "python3"
  },
  "language_info": {
   "codemirror_mode": {
    "name": "ipython",
    "version": 3
   },
   "file_extension": ".py",
   "mimetype": "text/x-python",
   "name": "python",
   "nbconvert_exporter": "python",
   "pygments_lexer": "ipython3",
   "version": "3.12.2"
  }
 },
 "nbformat": 4,
 "nbformat_minor": 2
}
